{
 "cells": [
  {
   "cell_type": "code",
   "execution_count": 1,
   "id": "59c81493",
   "metadata": {},
   "outputs": [],
   "source": [
    "from langchain_community.vectorstores import Chroma"
   ]
  },
  {
   "cell_type": "code",
   "execution_count": null,
   "id": "eb524a53",
   "metadata": {},
   "outputs": [
    {
     "name": "stderr",
     "output_type": "stream",
     "text": [
      "/mnt/c/Users/iMaji/Documents/AI Eng/TJ-Bot/.venv/lib/python3.12/site-packages/tqdm/auto.py:21: TqdmWarning: IProgress not found. Please update jupyter and ipywidgets. See https://ipywidgets.readthedocs.io/en/stable/user_install.html\n",
      "  from .autonotebook import tqdm as notebook_tqdm\n",
      "WARNING: All log messages before absl::InitializeLog() is called are written to STDERR\n",
      "E0000 00:00:1759014756.613488    2732 alts_credentials.cc:93] ALTS creds ignored. Not running on GCP and untrusted ALTS is not enabled.\n"
     ]
    }
   ],
   "source": [
    "from langchain_google_genai import GoogleGenerativeAIEmbeddings\n",
    "\n",
    "# embeddings = GoogleGenerativeAIEmbeddings(model=\"models/gemini-embedding-001\")"
   ]
  },
  {
   "cell_type": "code",
   "execution_count": 175,
   "id": "9d7f9ca9",
   "metadata": {},
   "outputs": [],
   "source": [
    "from langchain_community.document_loaders import UnstructuredMarkdownLoader\n",
    "\n",
    "loader = UnstructuredMarkdownLoader(\"doc/web_data.md\", mode=\"single\")\n",
    "docs = loader.load()"
   ]
  },
  {
   "cell_type": "code",
   "execution_count": 176,
   "id": "27776b6a",
   "metadata": {},
   "outputs": [
    {
     "data": {
      "text/plain": [
       "23075"
      ]
     },
     "execution_count": 176,
     "metadata": {},
     "output_type": "execute_result"
    }
   ],
   "source": [
    "len(docs[0].page_content)"
   ]
  },
  {
   "cell_type": "code",
   "execution_count": 137,
   "id": "d9609a40",
   "metadata": {},
   "outputs": [],
   "source": [
    "# Langchain dependencies\n",
    "from langchain.document_loaders.pdf import PyPDFDirectoryLoader # Importing PDF loader from Langchain\n",
    "from langchain.text_splitter import RecursiveCharacterTextSplitter # Importing text splitter from Langchain\n",
    "from langchain.embeddings import OpenAIEmbeddings # Importing OpenAI embeddings from Langchain\n",
    "from langchain.schema import Document # Importing Document schema from Langchain\n",
    "from langchain.vectorstores.chroma import Chroma # Importing Chroma vector store from Langchain\n",
    "from dotenv import load_dotenv # Importing dotenv to get API key from .env file\n",
    "from langchain.chat_models import ChatOpenAI # Import OpenAI LLM\n",
    "import os # Importing os module for operating system functionalities\n",
    "import shutil # Importing shutil module for high-level file operations"
   ]
  },
  {
   "cell_type": "code",
   "execution_count": 177,
   "id": "c00fd4b0",
   "metadata": {},
   "outputs": [],
   "source": [
    "def split_text(documents: list[Document]):\n",
    "  \"\"\"\n",
    "  Split the text content of the given list of Document objects into smaller chunks.\n",
    "  Args:\n",
    "    documents (list[Document]): List of Document objects containing text content to split.\n",
    "  Returns:\n",
    "    list[Document]: List of Document objects representing the split text chunks.\n",
    "  \"\"\"\n",
    "  # Initialize text splitter with specified parameters\n",
    "  text_splitter = RecursiveCharacterTextSplitter(\n",
    "    chunk_size=200, # Size of each chunk in characters\n",
    "    chunk_overlap=50, # Overlap between consecutive chunks\n",
    "    length_function=len, # Function to compute the length of the text\n",
    "    add_start_index=True, # Flag to add start index to each chunk\n",
    "    separators=[\"\\n\"], # List of separators to use for splitting\n",
    "  )\n",
    "\n",
    "  # Split documents into smaller chunks using text splitter\n",
    "  chunks = text_splitter.split_documents(documents)\n",
    "  print(f\"Split {len(documents)} documents into {len(chunks)} chunks.\")\n",
    "\n",
    "  # Print example of page content and metadata for a chunk\n",
    "  document = chunks[0]\n",
    "  print(document.page_content)\n",
    "  print(document.metadata)\n",
    "\n",
    "  return chunks # Return the list of split text chunks"
   ]
  },
  {
   "cell_type": "code",
   "execution_count": 178,
   "id": "4de23e8f",
   "metadata": {},
   "outputs": [
    {
     "name": "stdout",
     "output_type": "stream",
     "text": [
      "Split 1 documents into 113 chunks.\n",
      "Layanan\n",
      "\n",
      "Angkutan Pengumpan\n",
      "\n",
      "Layanan angkutan umum yang melayani titik perhentian di luar jaringan jalur BRT Transjakarta.\n",
      "\n",
      "BRT\n",
      "{'source': 'doc/web_data.md', 'start_index': 0}\n"
     ]
    }
   ],
   "source": [
    "chunk = split_text(docs) # Call the split_text function with the loaded documents"
   ]
  },
  {
   "cell_type": "code",
   "execution_count": 179,
   "id": "6ddc9a35",
   "metadata": {},
   "outputs": [
    {
     "data": {
      "text/plain": [
       "Document(metadata={'source': 'doc/web_data.md', 'start_index': 0}, page_content='Layanan\\n\\nAngkutan Pengumpan\\n\\nLayanan angkutan umum yang melayani titik perhentian di luar jaringan jalur BRT Transjakarta.\\n\\nBRT')"
      ]
     },
     "execution_count": 179,
     "metadata": {},
     "output_type": "execute_result"
    }
   ],
   "source": [
    "chunk[0]"
   ]
  },
  {
   "cell_type": "code",
   "execution_count": 180,
   "id": "800e0a29",
   "metadata": {},
   "outputs": [
    {
     "data": {
      "text/plain": [
       "Document(metadata={'source': 'doc/web_data.md', 'start_index': 124}, page_content='BRT\\n\\nLayanan angkutan umum yang melayani titik perhentian di jalur khusus BRT (busway) Transjakarta.\\n\\nMikrotrans')"
      ]
     },
     "execution_count": 180,
     "metadata": {},
     "output_type": "execute_result"
    }
   ],
   "source": [
    "chunk[1]"
   ]
  },
  {
   "cell_type": "code",
   "execution_count": 152,
   "id": "eba3e020",
   "metadata": {},
   "outputs": [],
   "source": [
    "from langchain_community.vectorstores.utils import filter_complex_metadata\n",
    "\n",
    "docs_clean = filter_complex_metadata(chunk)"
   ]
  },
  {
   "cell_type": "code",
   "execution_count": 187,
   "id": "58d890df",
   "metadata": {},
   "outputs": [],
   "source": [
    "from sentence_transformers import SentenceTransformer\n",
    "from langchain.embeddings import SentenceTransformerEmbeddings\n",
    "\n",
    "embedding = SentenceTransformerEmbeddings(model_name=\"all-MiniLM-L6-v2\")\n",
    "\n",
    "vector_store = Chroma(\n",
    "    collection_name=\"bus\",\n",
    "    embedding_function=embedding,\n",
    "    persist_directory=\"./chroma_b\"  # simpan di sini\n",
    ")\n"
   ]
  },
  {
   "cell_type": "code",
   "execution_count": 188,
   "id": "a0da2d7c",
   "metadata": {},
   "outputs": [
    {
     "data": {
      "text/plain": [
       "['9cc82cfe-4d79-4742-b865-843f4e1489d7',\n",
       " 'bc228abc-9009-4597-b95a-c6a15deaf632',\n",
       " 'cc4afd2a-c627-4ee6-b914-6fa81094b4f2',\n",
       " '86288727-2e5e-4900-8485-82519b92e3d0',\n",
       " 'd591eed5-6193-443d-b074-4b91ff429c6f',\n",
       " 'b181a097-e249-4d6e-85d0-34c0e96ad232',\n",
       " '66b6c5ce-7b92-4e1a-b7e7-1636dfd98d11',\n",
       " '3f0f33ed-7cd6-4826-b851-816ee6dbc552',\n",
       " 'aa8bcae2-94c6-449a-8242-fe33e9fab9eb',\n",
       " 'f0630372-c7b0-4425-877d-8a09f59b63b9',\n",
       " '89dd1d1a-f59b-490b-912a-12018b21076b',\n",
       " 'ff3fb396-cb11-4679-b93d-54b8f8918442',\n",
       " '2c687766-5b1e-4885-8285-bc4386ddb64b',\n",
       " '2e6675ee-0e4f-485c-91c5-a3e592656fe5',\n",
       " '714ada13-abef-4586-9e8c-d8a72f144ae7',\n",
       " 'bd809335-fb05-4830-865e-3b2664259fdd',\n",
       " 'defd000e-2110-4849-b2f3-01b89138431a',\n",
       " 'cf07af48-55df-4796-9efe-4e506855daf8',\n",
       " 'afb0d70c-a497-407b-b6c6-cb53431ff81b',\n",
       " '095c7bfb-22bb-463d-816d-be203bc9fd16',\n",
       " 'a55c19b1-1dc8-44ee-9c83-a5012fad0e7d',\n",
       " '20dea903-94e9-4a32-b809-39e176234471',\n",
       " '1db4acee-1ecf-4cdc-8164-c0d1872d0277',\n",
       " '6a70b433-a5f6-4ac2-a96a-e1d371e2cbbd',\n",
       " '51fc8a7c-68a9-4c01-9afc-10b7f09daa65',\n",
       " 'c8fae859-74d5-4e4b-8498-c364d76b9971',\n",
       " '46d954ef-54d3-4292-a4a3-837b7bedaacc',\n",
       " '21bbc3b5-d0d9-43a0-b68d-40ca9fcac3db',\n",
       " '93cbe50c-6512-4c21-98c7-91114f44dc8e',\n",
       " '21ec0c53-a07f-4e7b-8ff6-3ee4d1dffddf',\n",
       " 'a88ef1d9-52b9-4369-bc18-fd14ada5689b',\n",
       " '64a683f2-ee93-44c0-90d4-a274cca74e58',\n",
       " 'a86a9043-d4c1-4da2-8660-5f6bd3c1ac87',\n",
       " '661e7aec-16ae-4abb-84fa-fe3bf7b19458',\n",
       " 'f7f9eb74-0d41-4b5b-89ce-5298ce7d0f7e',\n",
       " 'bc29d167-fe00-4293-b266-9a42002622c9',\n",
       " '93e9e070-244b-4ca5-821f-566ba928155a',\n",
       " 'df945301-6919-4c64-a9c6-f13d80a7a135',\n",
       " 'cf2a8ac3-1df5-4d72-991e-9a0996a02a45',\n",
       " '98f1c0df-6de5-4ecd-9b9f-37d27f632edf',\n",
       " 'e634032e-a5e1-449d-9dbc-b02994c6f468',\n",
       " 'e195ca53-d974-4adf-b250-be1c679b338c',\n",
       " '715f189b-2d9a-46c1-893c-327624544e1f',\n",
       " '7c17134a-9214-42b0-89e3-a8580bdc8204',\n",
       " 'c92d98b0-343e-41cd-9fb1-6b5f33f034e2',\n",
       " '1df7e547-af56-44f6-a3e1-6aab19fabdc9',\n",
       " '970e7acf-b97a-437a-98c9-6d0ede551ea4',\n",
       " '324f3f27-f81e-43d8-929e-4bd48a27e7ca',\n",
       " '66197c88-a1c0-4418-ab4e-b118b997ad06',\n",
       " '70000c6b-efc3-4a48-a58a-188c816b6b1c',\n",
       " '377eceea-625e-4810-9e1d-89cb37b5879d',\n",
       " '75bf518e-8342-49a4-93df-c19a4131bb85',\n",
       " '5af8613f-1b11-4639-9cc3-8cb6f657affa',\n",
       " '13020be9-a18d-4951-9de8-f7f8f49603af',\n",
       " '265dab9e-dece-4b6a-ad0d-0e4b92d98153',\n",
       " 'f6274a8e-5ce1-4043-8da3-da0c0657530c',\n",
       " 'e2aa7f37-e35b-4f97-8b7c-d79681988b59',\n",
       " '1c61ae69-d412-4fc9-9e46-e78f10613e76',\n",
       " 'beb2ddd8-d159-4ed3-8dbe-bcab0d856fb8',\n",
       " '87b7a993-b58c-460f-a33f-a75413f09ce9',\n",
       " 'ef1a4093-f8fe-488d-954b-81259b9965be',\n",
       " '71c8916f-3588-431b-a727-6e28b18bb206',\n",
       " 'ab31088d-6dd2-4cdb-b9c2-5f4696103e8b',\n",
       " '479bc23e-9e9b-417e-9028-ab3d5b6c5980',\n",
       " '25117579-1c0c-448a-8852-2b555c594fff',\n",
       " 'c69e1477-bb44-4dc5-b5a5-b39a459d55fb',\n",
       " '66d80102-0014-4c2a-999b-f9d2a15adbc7',\n",
       " 'f02fd7be-f3d7-4c91-9505-717a52a46ce3',\n",
       " 'cf0d5476-4055-48bc-814c-05bcdaf12947',\n",
       " 'ee274359-bd3f-4484-bd19-f9c5d3cedf9f',\n",
       " 'b45404d7-cfd2-4ca0-bfa0-baede5206f1f',\n",
       " '6c7a3810-a5b4-4b51-8b3e-1d8882339228',\n",
       " '9789af22-5c5e-4c19-8eda-2efbfa85e546',\n",
       " '7a23e75d-6ced-4aa1-8083-0b0fede9e2bd',\n",
       " '05f2e0b4-3e3b-41c5-a73e-6fdbb8bf0fe5',\n",
       " '0a19ed44-713b-4662-827a-7ee44e3ae22a',\n",
       " '952a856c-0d18-4fe2-acaf-97bd65e62c5e',\n",
       " '8820fd90-7a2c-4ec8-a7e4-033c41db3073',\n",
       " '78ee79cd-6a87-4f1c-b4a8-db6c9c954fa4',\n",
       " 'dbac5868-be5d-48c4-a6c6-036c96513c23',\n",
       " '71284e31-3e60-4bc9-8666-39ae022aad89',\n",
       " 'cc12e4bf-6e62-47db-9916-849e9efacc3f',\n",
       " '8544eb81-2e5a-4b46-b400-a725430ef9c6',\n",
       " '24e7e518-1f2e-42b9-9623-b2a0cfd36023',\n",
       " 'bd61b158-4114-4d0b-b979-fe60a9f9ab80',\n",
       " '33ba4a38-d041-40b2-bea5-ae98b48e4397',\n",
       " '86f5d157-cfc5-4853-b4c7-678623c81afb',\n",
       " 'd1bf6699-dab8-4dce-8378-3a34ea9d9638',\n",
       " '17972433-7d6e-45df-bb46-0a5c2c8abe6f',\n",
       " 'fe0e841d-19b6-4111-b4d2-c919cad5f77b',\n",
       " '289fd26f-9acc-4d68-980a-a874b603b4f6',\n",
       " '86195fe6-b771-4163-ac26-636768c2876d',\n",
       " 'bd06688f-d483-4b05-88f9-b7b9a5f4270f',\n",
       " '8a9cc2c2-880a-4190-8c61-b7d73e6d5efa',\n",
       " 'a7728690-5322-49b2-bc51-1aa9abe6290d',\n",
       " '2948241b-a0a8-43cf-b447-17f85d3dabf0',\n",
       " 'b1525b1a-8d4e-4eb9-9c74-930e518bc2a6',\n",
       " 'e0504cae-9df2-4daf-907d-35d85cc1567b',\n",
       " '5a2f737d-e5e3-474b-8e46-68250ac9a1a2',\n",
       " '06feb9c4-bc3d-472d-8233-b34a926682fd',\n",
       " '71913ae3-eb70-4fb0-a040-55224b87fedd',\n",
       " '325f6596-6ac0-47db-8a01-a232e7b5707c',\n",
       " '25cbf171-a6ba-4155-a367-af6441ebf15a',\n",
       " 'e490612c-21a1-4f4a-8f9a-d2b1c6118088',\n",
       " '41fff6d0-9374-4dab-919f-986b8d7b61b1',\n",
       " 'c5538259-7933-4e08-a5d1-c3217cbdbc99',\n",
       " '94961321-5e29-4cac-97e2-2221305946af',\n",
       " '06441dac-5803-44a7-a07d-bafe548914d4',\n",
       " 'ff024271-f432-4a5a-9573-d9333cd6a3fe',\n",
       " '657b2c78-d3ed-43b8-9eaf-0a1a09ed8da4',\n",
       " 'e7b2b4e7-6555-4443-b54d-70991cef70e7',\n",
       " '87ecd144-dc76-4f3d-b9e6-219f562ac20c',\n",
       " 'f396c04d-76c3-4574-9a1b-347fdcf0623b']"
      ]
     },
     "execution_count": 188,
     "metadata": {},
     "output_type": "execute_result"
    }
   ],
   "source": [
    "vector_store.add_documents(chunk)"
   ]
  },
  {
   "cell_type": "code",
   "execution_count": null,
   "id": "de438b88",
   "metadata": {},
   "outputs": [],
   "source": []
  },
  {
   "cell_type": "code",
   "execution_count": 205,
   "id": "3aea8023",
   "metadata": {},
   "outputs": [
    {
     "data": {
      "text/plain": [
       "[(Document(metadata={'start_index': 17706, 'source': 'doc/web_data.md'}, page_content='Capaian : Kegiatan ini sebagai bentuk kepedulian Transjakarta untuk memberikan sanitasi layak di 10 titik di wilayah Kebon Pala, kecamatan Makassar.'),\n",
       "  0.33425634667628645),\n",
       " (Document(metadata={'start_index': 0, 'source': 'doc/web_data.md'}, page_content='Layanan\\n\\nAngkutan Pengumpan\\n\\nLayanan angkutan umum yang melayani titik perhentian di luar jaringan jalur BRT Transjakarta.\\n\\nBRT'),\n",
       "  0.2998986572386908),\n",
       " (Document(metadata={'source': 'doc/web_data.md', 'start_index': 124}, page_content='BRT\\n\\nLayanan angkutan umum yang melayani titik perhentian di jalur khusus BRT (busway) Transjakarta.\\n\\nMikrotrans'),\n",
       "  0.26591021634089906),\n",
       " (Document(metadata={'source': 'doc/web_data.md', 'start_index': 11292}, page_content='Kebijakan & Pedoman terkait lainnya.\\n\\nPrinsip-prinsip GCG'),\n",
       "  0.1780073160937291),\n",
       " (Document(metadata={'start_index': 22907, 'source': 'doc/web_data.md'}, page_content='Selain layanan dalam koridor, terdapat berbagai layanan lainnya yang disediakan Transjakarta yaitu:\\n\\nAngkutan Pengumpang\\nMikrotrans\\nRoyaltrans\\nTransjakarta Cares\\nWisata'),\n",
       "  0.1292835361664071)]"
      ]
     },
     "execution_count": 205,
     "metadata": {},
     "output_type": "execute_result"
    }
   ],
   "source": [
    "q = \"BRT layanan\"  # Example query\n",
    "results = vector_store.similarity_search_with_relevance_scores(q, k=5)\n",
    "results\n",
    "\n"
   ]
  },
  {
   "cell_type": "code",
   "execution_count": 199,
   "id": "58e9bba3",
   "metadata": {},
   "outputs": [
    {
     "data": {
      "text/plain": [
       "[Document(metadata={'start_index': 8607, 'source': 'doc/web_data.md'}, page_content='Visi Misi Transjakarta\\n\\nVisi : Menghubungkan Kehidupan Jakarta Misi : Bersama-sama menyediakan layanan transportasi terintegrasi yang memudahkan dan membahagiakan kehidupan Jakarta.'),\n",
       " Document(metadata={'start_index': 4413, 'source': 'doc/web_data.md'}, page_content='Logo Baru TransJakarta 2014'),\n",
       " Document(metadata={'start_index': 3569, 'source': 'doc/web_data.md'}, page_content='\\nBadan Layanan Umum TransJakarta mengganti logo TransJakarta. Mulai 15 Juni sosialisasi penggantian logo ini dilaksanakan. Huruf T dan J yang menyatu melambangkan sistem operasional yang integrasi. Huruf T yang tak terputus juga mengandung arti layanan TransJakarta yang dapat menjangkau seluruh wilayah Jakarta. Sedangkan warna merah dalam kotak mewakili koridor pertama TransJakarta yang mengawali jaringan bus berlajur khusus pertama di Indonesia.')]"
      ]
     },
     "execution_count": 199,
     "metadata": {},
     "output_type": "execute_result"
    }
   ],
   "source": [
    "q = \" visi misi\"\n",
    "result_2 = vector_store.search(q, k=3, search_type=\"similarity\")\n",
    "result_2"
   ]
  }
 ],
 "metadata": {
  "kernelspec": {
   "display_name": "tj-bot",
   "language": "python",
   "name": "python3"
  },
  "language_info": {
   "codemirror_mode": {
    "name": "ipython",
    "version": 3
   },
   "file_extension": ".py",
   "mimetype": "text/x-python",
   "name": "python",
   "nbconvert_exporter": "python",
   "pygments_lexer": "ipython3",
   "version": "3.12.3"
  }
 },
 "nbformat": 4,
 "nbformat_minor": 5
}
